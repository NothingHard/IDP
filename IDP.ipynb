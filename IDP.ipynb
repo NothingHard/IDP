{
 "cells": [
  {
   "cell_type": "code",
   "execution_count": null,
   "metadata": {
    "collapsed": true,
    "deletable": true,
    "editable": true
   },
   "outputs": [],
   "source": [
    "%env CUDA_DEVICE_ORDER=PCI_BUS_ID\n",
    "%env CUDA_VISIBLE_DEVICES=4"
   ]
  },
  {
   "cell_type": "code",
   "execution_count": 1,
   "metadata": {
    "collapsed": true,
    "deletable": true,
    "editable": true
   },
   "outputs": [],
   "source": [
    "import argparse\n",
    "import os\n",
    "import sys\n",
    "import time\n",
    "import numpy as np\n",
    "import tensorflow as tf\n",
    "from six.moves import cPickle\n",
    "from tensorflow.examples.tutorials.mnist import input_data"
   ]
  },
  {
   "cell_type": "code",
   "execution_count": null,
   "metadata": {
    "collapsed": false,
    "deletable": true,
    "editable": true
   },
   "outputs": [],
   "source": [
    "class model():\n",
    "    def __init__(self,profile=\"harmonic\"):\n",
    "        self.x = tf.placeholder(tf.float32, [None, 784])\n",
    "        self.y = tf.placeholder(tf.int32,[None,10])\n",
    "        self.learning_rate = 0.001\n",
    "\n",
    "        self.W1 = tf.get_variable(initializer=tf.random_uniform([784, 100],-0.1,0.1),name=\"W1\")\n",
    "        self.b1 = tf.get_variable(initializer=tf.random_uniform([100],-0.1,0.1),name=\"b1\")\n",
    "        self.W2 = tf.get_variable(initializer=tf.random_uniform([100, 100],-0.1,0.1),name=\"W2\")\n",
    "        self.b2 = tf.get_variable(initializer=tf.random_uniform([100],-0.1,0.1),name=\"b2\")\n",
    "        self.W3 = tf.get_variable(initializer=tf.random_uniform([100, 10],-0.1,0.1),name=\"W3\")\n",
    "        self.b3 = tf.get_variable(initializer=tf.random_uniform([10],-0.1,0.1),name=\"b3\")\n",
    "\n",
    "        if profile == \"linear\":\n",
    "            self.r1 = tf.get_variable(initializer=np.linspace(1,0,num=100,endpoint=False,dtype='float32'),name=\"r1\",dtype='float32')\n",
    "            self.r2 = tf.get_variable(initializer=np.linspace(1,0,num=100,endpoint=False,dtype='float32'),name=\"r2\",dtype='float32')\n",
    "            self.r3 = tf.get_variable(initializer=np.linspace(1,0,num=10,endpoint=False,dtype='float32') ,name=\"r3\",dtype='float32')\n",
    "        else:# profile == \"harmonic\":\n",
    "            self.r1 = tf.get_variable(initializer=np.array(1.0/(np.arange(100)+1),dtype='float32'),name=\"r1\",dtype='float32')\n",
    "            self.r2 = tf.get_variable(initializer=np.array(1.0/(np.arange(100)+1),dtype='float32'),name=\"r2\",dtype='float32')\n",
    "            self.r3 = tf.get_variable(initializer=np.array(1.0/(np.arange(10)+1),dtype='float32') ,name=\"r3\",dtype='float32')\n",
    "\n",
    "    def train(self,sess,config,gamma_trainable = False):\n",
    "        rm_vars = [self.r1,self.r2,self.r3]\n",
    "        # calculate r1*(W1*x)+b\n",
    "        z1 = tf.add(tf.multiply(self.r1,tf.matmul(self.x,self.W1)),self.b1)\n",
    "        y1 = tf.nn.relu(z1)\n",
    "        z2 = tf.add(tf.multiply(self.r2,tf.matmul(y1,self.W2)),self.b2)\n",
    "        y2 = tf.nn.relu(z2)\n",
    "\n",
    "        self.logits = tf.add(tf.multiply(self.r3,tf.matmul(y2,self.W3)),self.b3)\n",
    "        self.probs = tf.nn.softmax(self.logits)\n",
    "        cross_entropy = tf.nn.softmax_cross_entropy_with_logits(logits=self.logits,labels=self.y)\n",
    "        self.loss = tf.reduce_mean(cross_entropy)\n",
    "\n",
    "        tvars_trainable = tf.trainable_variables()\n",
    "        print(tvars_trainable)\n",
    "        if gamma_trainable:\n",
    "            print('All variables are trainable.')\n",
    "        else:\n",
    "            for rm in rm_vars:\n",
    "                tvars_trainable.remove(rm)\n",
    "                print('%s is not trainable'% rm)\n",
    "\n",
    "        tvars = tf.trainable_variables()\n",
    "        self.tvars = tvars\n",
    "        self.tvars_trainable = tvars_trainable\n",
    "        self.train_op = tf.train.AdamOptimizer(self.learning_rate).minimize(self.loss,var_list=self.tvars_trainable)\n",
    "        \n",
    "        for v in tf.get_collection(tf.GraphKeys.GLOBAL_VARIABLES):\n",
    "            sess.run(v.initializer)\n",
    "\n",
    "        epochs = config['epochs']\n",
    "        batch_per_epoch = config['batch_per_epoch']\n",
    "        batch_size = config['batch_size']\n",
    "        save_dir = config['save_dir']\n",
    "        mnist = config['mnist']\n",
    "\n",
    "        #saver = tf.train.Saver(tf.global_variables())\n",
    "        loss_to_draw_epoch = []\n",
    "        for epoch in range(0,epochs):\n",
    "            # train one epoch\n",
    "            start_time = time.time()\n",
    "            train_loss = []\n",
    "            for batch in range(0,batch_per_epoch):\n",
    "                batch_x, batch_y = mnist.train.next_batch(batch_size)\n",
    "                _,loss = sess.run([self.train_op, self.loss], \n",
    "                                  feed_dict = {self.x:batch_x, self.y: batch_y})\n",
    "                train_loss.append(loss)\n",
    "                #print(loss)\n",
    "\n",
    "            # test after one epoch\n",
    "\n",
    "            val_loss , probs = sess.run([self.loss,self.probs],feed_dict={self.x:mnist.test.images, self.y:mnist.test.labels})\n",
    "\n",
    "            loss_to_draw_epoch.append(val_loss)\n",
    "\n",
    "            print(\" epoch: %4d \\t time: %4f \\t loss: %4f \\t val_loss: %4f\" % \n",
    "                  (epoch,time.time() - start_time,np.mean(train_loss), val_loss))\n",
    "        \n",
    "    def predict(self,sess,idp):\n",
    "        # t1\n",
    "        n_ones = int(100 * idp)\n",
    "        n_zeros = 100 - n_ones\n",
    "        self.t1 = tf.get_variable(initializer=np.hstack([np.ones(n_ones),np.zeros(n_zeros)]),name=\"t1\")\n",
    "        \n",
    "        # t2\n",
    "        n_ones = int(100 * idp)\n",
    "        n_zeros = 100 - n_ones\n",
    "        self.t2 = tf.get_variable(initializer=np.hstack([np.ones(n_ones),np.zeros(n_zeros)]),name=\"t2\")\n",
    "        \n",
    "        # t3\n",
    "        n_ones = int(10 * idp)\n",
    "        n_zeros = 10 - n_ones\n",
    "        self.t3 = tf.get_variable(initializer=np.hstack([np.ones(n_ones),np.zeros(n_zeros)]),name=\"t3\")\n",
    "                \n",
    "        self.p1 = tf.get_variable(initializer=tf.multiply(self.r1,self.t1),name=\"p1\")\n",
    "        self.p2 = tf.get_variable(initializer=tf.multiply(self.r2,self.t2),name=\"p2\")\n",
    "        self.p3 = tf.get_variable(initializer=tf.multiply(self.r3,self.t3),name=\"p3\")\n",
    "        \n",
    "        self.rm_vars = [self.r1,self.r2,self.r3,self.t1,self.t2,self.t3,self.p1,self.p2,self.p3]\n",
    "            \n",
    "        # calculate r1*(W1*x)+b\n",
    "        z1 = tf.add(tf.multiply(self.r1,tf.matmul(self.x,self.W1)),self.b1)\n",
    "        y1 = tf.nn.relu(z1)\n",
    "        z2 = tf.add(tf.multiply(self.r2,tf.matmul(y1,self.W2)),self.b2)\n",
    "        y2 = tf.nn.relu(z2)\n",
    "        \n",
    "        self.logits = tf.add(tf.multiply(self.r3,tf.matmul(y2,self.W3)),self.b3)\n",
    "        \n",
    "        self.probs = tf.nn.softmax(self.logits)\n",
    "        "
   ]
  },
  {
   "cell_type": "code",
   "execution_count": 8,
   "metadata": {
    "collapsed": false,
    "deletable": true,
    "editable": true
   },
   "outputs": [],
   "source": [
    "model_test = model()"
   ]
  },
  {
   "cell_type": "code",
   "execution_count": 5,
   "metadata": {
    "collapsed": false,
    "deletable": true,
    "editable": true
   },
   "outputs": [
    {
     "name": "stdout",
     "output_type": "stream",
     "text": [
      "Extracting MNIST_data/train-images-idx3-ubyte.gz\n",
      "Extracting MNIST_data/train-labels-idx1-ubyte.gz\n",
      "Extracting MNIST_data/t10k-images-idx3-ubyte.gz\n",
      "Extracting MNIST_data/t10k-labels-idx1-ubyte.gz\n"
     ]
    }
   ],
   "source": [
    "mnist = input_data.read_data_sets('MNIST_data', one_hot=True)"
   ]
  },
  {
   "cell_type": "code",
   "execution_count": 6,
   "metadata": {
    "collapsed": true,
    "deletable": true,
    "editable": true
   },
   "outputs": [],
   "source": [
    "save_dir = \"\"\n",
    "epochs = 10\n",
    "batch_per_epoch = 100\n",
    "batch_size = 28\n",
    "config = {'epochs': epochs,\n",
    "         'batch_per_epoch': batch_per_epoch,\n",
    "         'batch_size': batch_size,\n",
    "         'save_dir': save_dir,\n",
    "         'mnist': mnist}"
   ]
  },
  {
   "cell_type": "code",
   "execution_count": 9,
   "metadata": {
    "collapsed": false,
    "deletable": true,
    "editable": true
   },
   "outputs": [
    {
     "ename": "AttributeError",
     "evalue": "'model' object has no attribute 'train'",
     "output_type": "error",
     "traceback": [
      "\u001b[0;31m---------------------------------------------------------------------------\u001b[0m",
      "\u001b[0;31mAttributeError\u001b[0m                            Traceback (most recent call last)",
      "\u001b[0;32m<ipython-input-9-e3ae8e5d6339>\u001b[0m in \u001b[0;36m<module>\u001b[0;34m()\u001b[0m\n\u001b[1;32m      1\u001b[0m \u001b[0;32mwith\u001b[0m \u001b[0mtf\u001b[0m\u001b[0;34m.\u001b[0m\u001b[0mSession\u001b[0m\u001b[0;34m(\u001b[0m\u001b[0;34m)\u001b[0m \u001b[0;32mas\u001b[0m \u001b[0msess\u001b[0m\u001b[0;34m:\u001b[0m\u001b[0;34m\u001b[0m\u001b[0m\n\u001b[0;32m----> 2\u001b[0;31m     \u001b[0mmodel_test\u001b[0m\u001b[0;34m.\u001b[0m\u001b[0mtrain\u001b[0m\u001b[0;34m(\u001b[0m\u001b[0msess\u001b[0m\u001b[0;34m=\u001b[0m\u001b[0msess\u001b[0m\u001b[0;34m,\u001b[0m\u001b[0mconfig\u001b[0m\u001b[0;34m=\u001b[0m\u001b[0mconfig\u001b[0m\u001b[0;34m,\u001b[0m\u001b[0mgamma_trainable\u001b[0m\u001b[0;34m=\u001b[0m\u001b[0;32mFalse\u001b[0m\u001b[0;34m)\u001b[0m\u001b[0;34m\u001b[0m\u001b[0m\n\u001b[0m",
      "\u001b[0;31mAttributeError\u001b[0m: 'model' object has no attribute 'train'"
     ]
    }
   ],
   "source": [
    "with tf.Session() as sess:\n",
    "    model_test.train(sess=sess,config=config,gamma_trainable=False)"
   ]
  },
  {
   "cell_type": "code",
   "execution_count": null,
   "metadata": {
    "collapsed": false,
    "deletable": true,
    "editable": true
   },
   "outputs": [],
   "source": [
    "with tf.Session() as sess:\n",
    "    model_test.train(sess=sess,config=config,gamma_trainable=False)\n",
    "    print(sess.run(model_test.r1))"
   ]
  },
  {
   "cell_type": "code",
   "execution_count": null,
   "metadata": {
    "collapsed": true,
    "deletable": true,
    "editable": true
   },
   "outputs": [],
   "source": []
  }
 ],
 "metadata": {
  "celltoolbar": "Raw Cell Format",
  "kernelspec": {
   "display_name": "Python 3",
   "language": "python",
   "name": "python3"
  },
  "language_info": {
   "codemirror_mode": {
    "name": "ipython",
    "version": 3
   },
   "file_extension": ".py",
   "mimetype": "text/x-python",
   "name": "python",
   "nbconvert_exporter": "python",
   "pygments_lexer": "ipython3",
   "version": "3.4.2"
  }
 },
 "nbformat": 4,
 "nbformat_minor": 2
}
