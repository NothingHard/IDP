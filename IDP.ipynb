{
 "cells": [
  {
   "cell_type": "code",
   "execution_count": null,
   "metadata": {},
   "outputs": [],
   "source": [
    "%env CUDA_DEVICE_ORDER=PCI_BUS_ID\n",
    "%env CUDA_VISIBLE_DEVICES=4"
   ]
  },
  {
   "cell_type": "code",
   "execution_count": null,
   "metadata": {
    "collapsed": true
   },
   "outputs": [],
   "source": [
    "import argparse\n",
    "import os\n",
    "import sys\n",
    "import time\n",
    "import numpy as np\n",
    "import tensorflow as tf\n",
    "from six.moves import cPickle\n",
    "from tensorflow.examples.tutorials.mnist import input_data"
   ]
  },
  {
   "cell_type": "code",
   "execution_count": null,
   "metadata": {
    "collapsed": true
   },
   "outputs": [],
   "source": [
    "class model():\n",
    "    def __init__(self,idp=1.0,profile=\"harmonic\"):\n",
    "        self.x = tf.placeholder(tf.float32, [None, 784])\n",
    "        self.y = tf.placeholder(tf.int32,[None,10])\n",
    "        self.idp = tf.placeholder(tf.float32,[None,1])\n",
    "        self.learning_rate = 0.001\n",
    "        \n",
    "        self.W1 = tf.Variable(tf.random_uniform([784, 100],-0.1,0.1),name=\"W1\")\n",
    "        self.b1 = tf.Variable(tf.random_uniform([100],-0.1,0.1),name=\"b1\")\n",
    "        self.W2 = tf.Variable(tf.random_uniform([100, 100],-0.1,0.1),name=\"W2\")\n",
    "        self.b2 = tf.Variable(tf.random_uniform([100],-0.1,0.1),name=\"b2\")\n",
    "        self.W3 = tf.Variable(tf.random_uniform([100, 10],-0.1,0.1),name=\"W3\")\n",
    "        self.b3 = tf.Variable(tf.random_uniform([10],-0.1,0.1),name=\"b3\")\n",
    "        \n",
    "#         if profile == \"linear\":\n",
    "#             self.r1 = tf.constant_initializer(np.linspace(1,0,num=100,endpoint=False))\n",
    "#             self.r2 = tf.constant_initializer(np.linspace(1,0,num=100,endpoint=False))\n",
    "#             self.r3 = tf.constant_initializer(np.linspace(1,0,num=10,endpoint=False))\n",
    "#         else:# profile == \"harmonic\":\n",
    "#             self.r1 = tf.constant_initializer(1.0/(np.arange(100)+1))\n",
    "#             self.r2 = tf.constant_initializer(1.0/(np.arange(100)+1))\n",
    "#             self.r3 = tf.constant_initializer(1.0/(np.arange(10)+1))\n",
    "        if profile == \"linear\":\n",
    "            self.r1 = tf.Variable(np.linspace(1,0,num=100,endpoint=False),name=\"r1\",dtype='float32')\n",
    "            self.r2 = tf.Variable(np.linspace(1,0,num=100,endpoint=False),name=\"r2\",dtype='float32')\n",
    "            self.r3 = tf.Variable(np.linspace(1,0,num=10,endpoint=False) ,name=\"r3\",dtype='float32')\n",
    "        else:# profile == \"harmonic\":\n",
    "            self.r1 = tf.Variable(1.0/(np.arange(100)+1),name=\"r1\",dtype='float32')\n",
    "            self.r2 = tf.Variable(1.0/(np.arange(100)+1),name=\"r2\",dtype='float32')\n",
    "            self.r3 = tf.Variable(1.0/(np.arange(10)+1) ,name=\"r3\",dtype='float32')\n",
    "        # t1\n",
    "        n_ones = int(100 * idp)\n",
    "        n_zeros = 100 - n_ones\n",
    "        self.t1 = tf.Variable(np.hstack([np.ones(n_ones),np.zeros(n_zeros)]),name=\"t1\",dtype='float32')\n",
    "        \n",
    "        # t2\n",
    "        n_ones = int(100 * idp)\n",
    "        n_zeros = 100 - n_ones\n",
    "        self.t2 = tf.Variable(np.hstack([np.ones(n_ones),np.zeros(n_zeros)]),name=\"t2\",dtype='float32')\n",
    "        \n",
    "        # t3\n",
    "        n_ones = int(10 * idp)\n",
    "        n_zeros = 10 - n_ones\n",
    "        self.t3 = tf.Variable(np.hstack([np.ones(n_ones),np.zeros(n_zeros)]),name=\"t3\",dtype='float32')\n",
    "                \n",
    "        self.p1 = tf.Variable(tf.multiply(self.r1,self.t1),name=\"p1\")\n",
    "        self.p2 = tf.Variable(tf.multiply(self.r2,self.t2),name=\"p2\")\n",
    "        self.p3 = tf.Variable(tf.multiply(self.r3,self.t3),name=\"p3\")\n",
    "        \n",
    "        self.rm_vars = [self.r1,self.r2,self.r3,self.t1,self.t2,self.t3,self.p1,self.p2,self.p3]\n",
    "            \n",
    "        # calculate r1*(W1*x)+b\n",
    "        z1 = tf.add(tf.multiply(self.r1,tf.matmul(self.x,self.W1)),self.b1)\n",
    "        y1 = tf.nn.relu(z1)\n",
    "        z2 = tf.add(tf.multiply(self.r2,tf.matmul(y1,self.W2)),self.b2)\n",
    "        y2 = tf.nn.relu(z2)\n",
    "        \n",
    "        self.logits = tf.add(tf.multiply(self.r3,tf.matmul(y2,self.W3)),self.b3)\n",
    "        \n",
    "        self.probs = tf.nn.softmax(self.logits)\n",
    "        \n",
    "        cross_entropy = tf.nn.softmax_cross_entropy_with_logits(logits=self.logits,labels=self.y)\n",
    "        \n",
    "        self.loss = tf.reduce_mean(cross_entropy)\n",
    "        \n",
    "        tvars = tf.trainable_variables()\n",
    "        \n",
    "        tvars_rm = tf.trainable_variables()\n",
    "        print(tvars_rm)\n",
    "        for rm in self.rm_vars:\n",
    "            print(rm)\n",
    "            tvars_rm.remove(rm)\n",
    "        \n",
    "        self.tvars = tvars\n",
    "        self.tvars_rm = tvars_rm\n",
    "        self.train_all = tf.train.AdamOptimizer(self.learning_rate).minimize(self.loss,var_list=self.tvars)\n",
    "        self.train_rm_gamma = tf.train.AdamOptimizer(self.learning_rate).minimize(self.loss,var_list=self.tvars_rm)"
   ]
  },
  {
   "cell_type": "code",
   "execution_count": null,
   "metadata": {},
   "outputs": [],
   "source": [
    "mnist = input_data.read_data_sets('MNIST_data', one_hot=True)"
   ]
  },
  {
   "cell_type": "code",
   "execution_count": null,
   "metadata": {
    "collapsed": true
   },
   "outputs": [],
   "source": [
    "save_dir = \"\"\n",
    "epochs = 100\n",
    "batch_per_epoch = 100\n",
    "batch_size = 28"
   ]
  },
  {
   "cell_type": "code",
   "execution_count": null,
   "metadata": {},
   "outputs": [],
   "source": [
    "model100 = model()"
   ]
  },
  {
   "cell_type": "code",
   "execution_count": null,
   "metadata": {},
   "outputs": [],
   "source": [
    "model80 = model(idp=0.8)"
   ]
  },
  {
   "cell_type": "code",
   "execution_count": null,
   "metadata": {},
   "outputs": [],
   "source": [
    "def train(model):\n",
    "    with tf.Session() as sess:\n",
    "        tf.global_variables_initializer().run()\n",
    "        print(\"initialized\")\n",
    "\n",
    "        #saver = tf.train.Saver(tf.global_variables())\n",
    "        loss_to_draw_epoch = []\n",
    "        for epoch in range(0,epochs):\n",
    "            # train one epoch\n",
    "            start_time = time.time()\n",
    "            train_loss = []\n",
    "            for batch in range(0,batch_per_epoch):\n",
    "                batch_x, batch_y = mnist.train.next_batch(batch_size)\n",
    "                _,loss = sess.run([model.train_rm_gamma,model.loss], \n",
    "                                  feed_dict = {model.x:batch_x, model.y: batch_y})\n",
    "                train_loss.append(loss)\n",
    "                #print(loss)\n",
    "\n",
    "            # test after one epoch\n",
    "\n",
    "            val_loss , probs = sess.run([model.loss,model.probs],feed_dict={model.x:mnist.test.images, model.y:mnist.test.labels})\n",
    "\n",
    "            loss_to_draw_epoch.append(val_loss)\n",
    "\n",
    "            print(\" Epoch: \", epoch,\n",
    "                  \" loss: \", np.mean(train_loss), \n",
    "                  \" val_loss: \", val_loss,\n",
    "                  #\" val_acc:  \", val_accu,\n",
    "                  \" Elapsed time: \", str((time.time() - start_time)))\n",
    "\n",
    "\n",
    "            #loss_fd.write('epoch ' + str(epoch) + ' loss ' + str(loss_val) + '\\n')\n",
    "\n",
    "        #checkpoint_path = os.path.join(save_dir, 'model.ckpt')\n",
    "        #saver.save(sess, checkpoint_path, global_step=epoch)"
   ]
  },
  {
   "cell_type": "code",
   "execution_count": null,
   "metadata": {
    "collapsed": true
   },
   "outputs": [],
   "source": []
  },
  {
   "cell_type": "code",
   "execution_count": null,
   "metadata": {},
   "outputs": [],
   "source": [
    "with tf.Session() as sess:\n",
    "    tf.global_variables_initializer().run()\n",
    "    print(\"initialized\")\n",
    "    \n",
    "    #saver = tf.train.Saver(tf.global_variables())\n",
    "    loss_to_draw_epoch = []\n",
    "    for epoch in range(0,epochs):\n",
    "        # train one epoch\n",
    "        start_time = time.time()\n",
    "        train_loss = []\n",
    "        for batch in range(0,batch_per_epoch):\n",
    "            batch_x, batch_y = mnist.train.next_batch(batch_size)\n",
    "            _,loss = sess.run([model.train_rm_gamma,model.loss], \n",
    "                              feed_dict = {model.x:batch_x, model.y: batch_y})\n",
    "            train_loss.append(loss)\n",
    "            #print(loss)\n",
    "        \n",
    "        # test after one epoch\n",
    "        \n",
    "        val_loss , probs = sess.run([model.loss,model.probs],feed_dict={model.x:mnist.test.images, model.y:mnist.test.labels})\n",
    "        \n",
    "        loss_to_draw_epoch.append(val_loss)\n",
    "        \n",
    "        print(\" Epoch: \", epoch,\n",
    "              \" loss: \", np.mean(train_loss), \n",
    "              \" val_loss: \", val_loss,\n",
    "              #\" val_acc:  \", val_accu,\n",
    "              \" Elapsed time: \", str((time.time() - start_time)))\n",
    "        \n",
    "        \n",
    "        #loss_fd.write('epoch ' + str(epoch) + ' loss ' + str(loss_val) + '\\n')\n",
    "    \n",
    "    #checkpoint_path = os.path.join(save_dir, 'model.ckpt')\n",
    "    #saver.save(sess, checkpoint_path, global_step=epoch)"
   ]
  },
  {
   "cell_type": "code",
   "execution_count": null,
   "metadata": {},
   "outputs": [],
   "source": [
    "probs.shape"
   ]
  },
  {
   "cell_type": "code",
   "execution_count": null,
   "metadata": {
    "collapsed": true
   },
   "outputs": [],
   "source": []
  },
  {
   "cell_type": "code",
   "execution_count": null,
   "metadata": {
    "collapsed": true
   },
   "outputs": [],
   "source": []
  }
 ],
 "metadata": {
  "kernelspec": {
   "display_name": "Python 3",
   "language": "python",
   "name": "python3"
  },
  "language_info": {
   "codemirror_mode": {
    "name": "ipython",
    "version": 3
   },
   "file_extension": ".py",
   "mimetype": "text/x-python",
   "name": "python",
   "nbconvert_exporter": "python",
   "pygments_lexer": "ipython3",
   "version": "3.5.2"
  }
 },
 "nbformat": 4,
 "nbformat_minor": 2
}
